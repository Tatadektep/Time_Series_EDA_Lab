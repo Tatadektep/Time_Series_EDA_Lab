{
 "cells": [
  {
   "cell_type": "markdown",
   "id": "72d5d1b0-2c15-446f-bbbe-b08286e0ce57",
   "metadata": {},
   "source": [
    "<img src=\"http://imgur.com/1ZcRyrc.png\" style=\"float: left; margin: 20px; height: 55px\">\n",
    "\n",
    "# Time Series EDA\n",
    "\n",
    "_Author: Unknown_\n",
    "\n",
    "----\n",
    "This lab will walk you through performing exploratory data analysis on a dataset of weekly chickenpox cases from Hungary. This dataset is from the UCI Machine Learning Repository. You can read more about the dataset [here](https://archive.ics.uci.edu/ml/datasets/Hungarian+Chickenpox+Cases).\n",
    "\n",
    "-----"
   ]
  },
  {
   "cell_type": "markdown",
   "id": "e390dfcd-7f68-49a7-90ff-fe26b4e0ab2e",
   "metadata": {},
   "source": [
    "### Imports"
   ]
  },
  {
   "cell_type": "code",
   "execution_count": 1,
   "id": "88e8ef09-ca3c-4bd9-84da-e4a89aadbf8e",
   "metadata": {},
   "outputs": [],
   "source": [
    "import pandas as pd\n",
    "import numpy as np\n",
    "import seaborn as sns\n",
    "import matplotlib.pyplot as plt"
   ]
  },
  {
   "cell_type": "code",
   "execution_count": 2,
   "id": "38e05cb6-512b-4e5b-bf22-6a2113e87022",
   "metadata": {},
   "outputs": [
    {
     "data": {
      "text/html": [
       "<div>\n",
       "<style scoped>\n",
       "    .dataframe tbody tr th:only-of-type {\n",
       "        vertical-align: middle;\n",
       "    }\n",
       "\n",
       "    .dataframe tbody tr th {\n",
       "        vertical-align: top;\n",
       "    }\n",
       "\n",
       "    .dataframe thead th {\n",
       "        text-align: right;\n",
       "    }\n",
       "</style>\n",
       "<table border=\"1\" class=\"dataframe\">\n",
       "  <thead>\n",
       "    <tr style=\"text-align: right;\">\n",
       "      <th></th>\n",
       "      <th>date</th>\n",
       "      <th>budapest_cases</th>\n",
       "    </tr>\n",
       "  </thead>\n",
       "  <tbody>\n",
       "    <tr>\n",
       "      <th>0</th>\n",
       "      <td>03/01/2005</td>\n",
       "      <td>168</td>\n",
       "    </tr>\n",
       "    <tr>\n",
       "      <th>1</th>\n",
       "      <td>10/01/2005</td>\n",
       "      <td>157</td>\n",
       "    </tr>\n",
       "    <tr>\n",
       "      <th>2</th>\n",
       "      <td>17/01/2005</td>\n",
       "      <td>96</td>\n",
       "    </tr>\n",
       "  </tbody>\n",
       "</table>\n",
       "</div>"
      ],
      "text/plain": [
       "         date  budapest_cases\n",
       "0  03/01/2005             168\n",
       "1  10/01/2005             157\n",
       "2  17/01/2005              96"
      ]
     },
     "execution_count": 2,
     "metadata": {},
     "output_type": "execute_result"
    }
   ],
   "source": [
    "# Only using one county\n",
    "pox = pd.read_csv('data/hungary_chickenpox.csv')[['Date', 'BUDAPEST']]\n",
    "\n",
    "# Renaming columns for readability\n",
    "pox.columns = ['date', 'budapest_cases']\n",
    "pox.head(3)"
   ]
  },
  {
   "cell_type": "markdown",
   "id": "644963d2-1279-45d4-9bb0-f293df9ac0c9",
   "metadata": {},
   "source": [
    "**Check the dataframe dtypes**"
   ]
  },
  {
   "cell_type": "code",
   "execution_count": null,
   "id": "b1269a4a-006a-4bcd-9012-7410a48ffb34",
   "metadata": {},
   "outputs": [],
   "source": []
  },
  {
   "cell_type": "markdown",
   "id": "989b381f-dd9f-49bf-aa41-dff6a0037ce1",
   "metadata": {},
   "source": [
    "**Check for nulls**"
   ]
  },
  {
   "cell_type": "code",
   "execution_count": null,
   "id": "696556dd-9f61-45b0-802f-0fd4fc81b1dd",
   "metadata": {},
   "outputs": [],
   "source": []
  },
  {
   "cell_type": "markdown",
   "id": "fe07c392-9b04-40d6-9519-23d7e70faf6c",
   "metadata": {},
   "source": [
    "**Casting the `'Date'` column to a datetime type**\n",
    "\n",
    "Use `pd.to_datetime` to convert the `Date` column to a datetime.\n",
    "\n",
    "**WARNING**: The date column is formated as day-month-year. Does `pd.to_datetime` work the way you expect it to on day/month/year strings? If it doesn't work the way you expect it to, check [the documentation](https://pandas.pydata.org/pandas-docs/stable/reference/api/pandas.to_datetime.html) for `pd.to_datetime`, and see if one of the settings fixes things."
   ]
  },
  {
   "cell_type": "code",
   "execution_count": null,
   "id": "7bf76bfa-596f-4c3d-b668-f620424176d9",
   "metadata": {},
   "outputs": [],
   "source": []
  },
  {
   "cell_type": "code",
   "execution_count": null,
   "id": "a9de38cf-f811-42a4-9978-bd3a840e09a8",
   "metadata": {},
   "outputs": [],
   "source": []
  },
  {
   "cell_type": "markdown",
   "id": "77b03bcd-a2d2-4ab4-9730-d5549617a683",
   "metadata": {},
   "source": [
    "**Set the `'Date'` column to be the index**"
   ]
  },
  {
   "cell_type": "code",
   "execution_count": null,
   "id": "e2e7f4d1-ca9f-4deb-85ed-b1488d3ac75e",
   "metadata": {},
   "outputs": [],
   "source": []
  },
  {
   "cell_type": "markdown",
   "id": "4a850da4-c962-412c-a455-b92041014b0f",
   "metadata": {},
   "source": [
    "---\n",
    "\n",
    "Now that our data is formatted appropriately, we can embark on EDA.\n",
    "\n",
    "### Summary statistics\n",
    "\n",
    "**What times does the dataset describe?**\n",
    "\n",
    "That is, what's the earliest date in the dataset, and what's the latest date?"
   ]
  },
  {
   "cell_type": "code",
   "execution_count": null,
   "id": "9b2fe22e-996a-46ca-9c1c-b177bb4c4079",
   "metadata": {},
   "outputs": [],
   "source": []
  },
  {
   "cell_type": "markdown",
   "id": "f92a900c-51af-47fe-a749-abed4ad9cfb8",
   "metadata": {},
   "source": [
    "**Plot a histogram of the Budapest cases column**"
   ]
  },
  {
   "cell_type": "code",
   "execution_count": null,
   "id": "28846cc7-c5ad-4f36-90ab-80cdf3aa18b8",
   "metadata": {},
   "outputs": [],
   "source": []
  },
  {
   "cell_type": "markdown",
   "id": "53541397-358d-4085-85ed-8d6504038f86",
   "metadata": {},
   "source": [
    "**How many cases were there per year?**\n",
    "\n",
    "Recall that with time series data, we can't simply group by on the year. You'll need to use the `resample` method on the DataFrame to answer this question."
   ]
  },
  {
   "cell_type": "code",
   "execution_count": null,
   "id": "229182c6-03b8-4b71-b873-a8816ed6d4cf",
   "metadata": {},
   "outputs": [],
   "source": []
  },
  {
   "cell_type": "markdown",
   "id": "6c9719c9-593e-44ed-b686-d5eafa98db9c",
   "metadata": {},
   "source": [
    "### Visualizations\n",
    "\n",
    "**Make a line plot of chickenpox cases**"
   ]
  },
  {
   "cell_type": "code",
   "execution_count": null,
   "id": "1638941b-fa60-4576-9eb4-24dc43742967",
   "metadata": {},
   "outputs": [],
   "source": []
  },
  {
   "cell_type": "markdown",
   "id": "a03ca77e-e8e6-446c-bd86-ca836de80892",
   "metadata": {},
   "source": [
    "**In short answer format, describe any apparent trends**"
   ]
  },
  {
   "cell_type": "code",
   "execution_count": null,
   "id": "81fb5e40",
   "metadata": {},
   "outputs": [],
   "source": []
  },
  {
   "cell_type": "markdown",
   "id": "1405ce37-9650-41fc-b99e-f092d5777d58",
   "metadata": {},
   "source": [
    "### Plot rolling averages\n",
    "\n",
    "Plot the weekly chickenpox cases, but on the same graph, also plot the 4-week and 12-week rolling averages."
   ]
  },
  {
   "cell_type": "code",
   "execution_count": null,
   "id": "68d614ca-5947-457a-9026-a95fc4e0e98c",
   "metadata": {},
   "outputs": [],
   "source": []
  },
  {
   "cell_type": "markdown",
   "id": "930046fd-678d-4752-85b5-a7ca35100cbe",
   "metadata": {},
   "source": [
    "### Plot yearly chickenpox cases\n",
    "\n",
    "You may need to use `resample` again for this."
   ]
  },
  {
   "cell_type": "code",
   "execution_count": null,
   "id": "a65a7651-dbdc-41ab-86b1-6c96193e78d8",
   "metadata": {},
   "outputs": [],
   "source": []
  }
 ],
 "metadata": {
  "kernelspec": {
   "display_name": "Python 3 (ipykernel)",
   "language": "python",
   "name": "python3"
  },
  "language_info": {
   "codemirror_mode": {
    "name": "ipython",
    "version": 3
   },
   "file_extension": ".py",
   "mimetype": "text/x-python",
   "name": "python",
   "nbconvert_exporter": "python",
   "pygments_lexer": "ipython3",
   "version": "3.9.12"
  }
 },
 "nbformat": 4,
 "nbformat_minor": 5
}
